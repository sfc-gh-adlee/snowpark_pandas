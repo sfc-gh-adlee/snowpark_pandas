{
 "metadata": {
  "kernelspec": {
   "display_name": "Streamlit Notebook",
   "name": "streamlit"
  }
 },
 "nbformat_minor": 5,
 "nbformat": 4,
 "cells": [
  {
   "cell_type": "code",
   "id": "3775908f-ca36-4846-8f38-5adca39217f2",
   "metadata": {
    "language": "python",
    "name": "cell1"
   },
   "source": "import modin.pandas as spd\n# Import the Snowpark pandas plugin for modin\nimport snowflake.snowpark.modin.plugin\n\nimport streamlit as st\n# # Create a Snowpark session with a default connection.\n# session = Session.builder.create()\nfrom snowflake.snowpark.context import get_active_session\nsession = get_active_session()\nfrom time import perf_counter",
   "execution_count": null,
   "outputs": []
  },
  {
   "cell_type": "code",
   "id": "8d50cbf4-0c8d-4950-86cb-114990437ac9",
   "metadata": {
    "language": "python",
    "name": "cell2"
   },
   "source": "# Read data into a Snowpark pandas df \n\nstart = perf_counter()\nspd_df = spd.read_snowflake(\"FROSTBYTE_TASTY_BYTES_V2.ANALYTICS.DEMAND_FORECAST_TRAINING_BASE\")\n\nprint(spd_df)\nend = perf_counter()\n\ndata_size = len(spd_df)\nprint(f\"Took {end - start} seconds to read a table with {data_size} rows into Snowpark pandas!\")",
   "execution_count": null,
   "outputs": []
  },
  {
   "cell_type": "code",
   "id": "dfadc648-961b-4f26-84f5-002df887f23d",
   "metadata": {
    "language": "python",
    "name": "cell17"
   },
   "outputs": [],
   "source": "from IPython import display\nstart = perf_counter()\n\ndf_table = session.table(\"FROSTBYTE_TASTY_BYTES_V2.ANALYTICS.DEMAND_FORECAST_TRAINING_BASE\")\ndf_table_pandas = df_table.to_pandas()\n\nprint(df_table_pandas)\nend = perf_counter()\n\ndata_size = len(df_table_pandas)\nprint(f\"Took {end - start} seconds to read a table with {data_size} rows into normal pandas using to_pandas()\")",
   "execution_count": null
  },
  {
   "cell_type": "code",
   "id": "28eb6447-dbcf-4618-b631-ba178be2a9e7",
   "metadata": {
    "language": "python",
    "name": "cell18"
   },
   "outputs": [],
   "source": "# Read data into a local native pandas df\nfrom IPython import display\nstart = perf_counter()\n\n# Create a cursor object.\ncur = session.connection.cursor()\n\n# Execute a statement that will generate a result set.\nsql = \"select * from FROSTBYTE_TASTY_BYTES_V2.ANALYTICS.DEMAND_FORECAST_TRAINING_BASE\"\ncur.execute(sql)\n\n# Fetch the result set from the cursor and deliver it as the pandas DataFrame.\nnative_pd_df = cur.fetch_pandas_all()\n\nprint(df_table_pandas)\nend = perf_counter()\n\nprint(f\"Native pandas took {end - start} seconds to read the data!\")",
   "execution_count": null
  },
  {
   "cell_type": "code",
   "id": "23065221-0343-464b-a962-8344f24ef53f",
   "metadata": {
    "language": "python",
    "name": "cell12"
   },
   "outputs": [],
   "source": "#Aggregation of value\nstart = perf_counter()\n\nspd_df = spd.read_snowflake(\"FROSTBYTE_TASTY_BYTES_V2.ANALYTICS.DEMAND_FORECAST_TRAINING_BASE\")\nresult = spd_df[[\"AVG_QUANTITY_7D_CITY_MENU_ITEM\", \n                            \"AVG_QUANTITY_14D_CITY_MENU_ITEM\", \n                            \"AVG_QUANTITY_28D_CITY_MENU_ITEM\", \n                            \"AVG_SALES_7D_CITY_MENU_TYPE\",\n                            \"AVG_SALES_14D_CITY_MENU_TYPE\",\n                            \"AVG_SALES_28D_CITY_MENU_TYPE\",\n                            \"AVG_SALES_7D_LOCATION\",\n                            \"AVG_SALES_14D_LOCATION\",\n                            \"AVG_SALES_28D_LOCATION\",\n                            \"AVG_QUANTITY_7D_MENU_ITEM\",\n                            \"AVG_QUANTITY_14D_MENU_ITEM\",\n                            \"AVG_QUANTITY_28D_MENU_ITEM\"]].aggregate('sum')\nprint(spd_df)\nend = perf_counter()\n\nprint(f\"Took {end - start} seconds to finish doing a aggregation of columns!\")\n",
   "execution_count": null
  },
  {
   "cell_type": "code",
   "id": "ddeccd39-0fad-40a8-a979-efbe43fc061a",
   "metadata": {
    "language": "python",
    "name": "cell19"
   },
   "outputs": [],
   "source": "start = perf_counter()\n\ndf_table = session.table(\"FROSTBYTE_TASTY_BYTES_V2.ANALYTICS.DEMAND_FORECAST_TRAINING_BASE\")\ndf_table_pandas = df_table.to_pandas()\ndf_table_pandas = df_table_pandas[[\"AVG_QUANTITY_7D_CITY_MENU_ITEM\", \n                            \"AVG_QUANTITY_14D_CITY_MENU_ITEM\", \n                            \"AVG_QUANTITY_28D_CITY_MENU_ITEM\", \n                            \"AVG_SALES_7D_CITY_MENU_TYPE\",\n                            \"AVG_SALES_14D_CITY_MENU_TYPE\",\n                            \"AVG_SALES_28D_CITY_MENU_TYPE\",\n                            \"AVG_SALES_7D_LOCATION\",\n                            \"AVG_SALES_14D_LOCATION\",\n                            \"AVG_SALES_28D_LOCATION\",\n                            \"AVG_QUANTITY_7D_MENU_ITEM\",\n                            \"AVG_QUANTITY_14D_MENU_ITEM\",\n                            \"AVG_QUANTITY_28D_MENU_ITEM\"]].aggregate('sum')\n\nprint(df_table_pandas)\nend = perf_counter()\n\ndata_size = len(df_table_pandas)\nprint(f\"Took {end - start} seconds to read a table with {data_size} rows into normal pandas using to_pandas()\")",
   "execution_count": null
  },
  {
   "cell_type": "code",
   "id": "a2079003-8f24-44e5-b5a3-71c2738c0013",
   "metadata": {
    "language": "python",
    "name": "cell20"
   },
   "outputs": [],
   "source": "cur = session.connection.cursor()\nstart = perf_counter()\n\nsql = \"select * from FROSTBYTE_TASTY_BYTES_V2.ANALYTICS.DEMAND_FORECAST_TRAINING_BASE\"\ncur.execute(sql)\n\n# Fetch the result set from the cursor and deliver it as the pandas DataFrame.\nnative_pd_df = cur.fetch_pandas_all()\n\nnative_pd_df = native_pd_df[[\"AVG_QUANTITY_7D_CITY_MENU_ITEM\", \n                            \"AVG_QUANTITY_14D_CITY_MENU_ITEM\", \n                            \"AVG_QUANTITY_28D_CITY_MENU_ITEM\", \n                            \"AVG_SALES_7D_CITY_MENU_TYPE\",\n                            \"AVG_SALES_14D_CITY_MENU_TYPE\",\n                            \"AVG_SALES_28D_CITY_MENU_TYPE\",\n                            \"AVG_SALES_7D_LOCATION\",\n                            \"AVG_SALES_14D_LOCATION\",\n                            \"AVG_SALES_28D_LOCATION\",\n                            \"AVG_QUANTITY_7D_MENU_ITEM\",\n                            \"AVG_QUANTITY_14D_MENU_ITEM\",\n                            \"AVG_QUANTITY_28D_MENU_ITEM\"]].aggregate('sum')\n\nprint(native_pd_df)\nend = perf_counter()\n\ndata_size = len(native_pd_df)\nprint(f\"Took {end - start} seconds to read a table with {data_size} rows into normal pandas using to_pandas()\")",
   "execution_count": null
  },
  {
   "cell_type": "code",
   "id": "ab4a7480-b946-46cc-9dfd-a8fec52aa8f8",
   "metadata": {
    "language": "python",
    "name": "cell15"
   },
   "outputs": [],
   "source": "#Aggregation of value\nstart = perf_counter()\n\nspd_df = spd.read_snowflake(\"FROSTBYTE_TASTY_BYTES_V2.ANALYTICS.DEMAND_FORECAST_TRAINING_BASE\")\n\nresult = spd_df[[\"PRIMARY_CITY\",\"AVG_QUANTITY_7D_CITY_MENU_ITEM\", \n                            \"AVG_QUANTITY_14D_CITY_MENU_ITEM\", \n                            \"AVG_QUANTITY_28D_CITY_MENU_ITEM\", \n                            \"AVG_SALES_7D_CITY_MENU_TYPE\",\n                            \"AVG_SALES_14D_CITY_MENU_TYPE\",\n                            \"AVG_SALES_28D_CITY_MENU_TYPE\",\n                            \"AVG_SALES_7D_LOCATION\",\n                            \"AVG_SALES_14D_LOCATION\",\n                            \"AVG_SALES_28D_LOCATION\",\n                            \"AVG_QUANTITY_7D_MENU_ITEM\",\n                            \"AVG_QUANTITY_14D_MENU_ITEM\",\n                            \"AVG_QUANTITY_28D_MENU_ITEM\"]].groupby(['PRIMARY_CITY']).mean()\nprint(spd_df)\nend = perf_counter()\n\nprint(f\"Took {end - start} seconds to finish doing a group by of Primary City and performing mean with Snowpark Pandas\")",
   "execution_count": null
  },
  {
   "cell_type": "code",
   "id": "9906e7f8-9e0d-4c75-920a-cee655f8263e",
   "metadata": {
    "language": "python",
    "name": "cell21"
   },
   "outputs": [],
   "source": "start = perf_counter()\n\ndf_table = session.table(\"FROSTBYTE_TASTY_BYTES_V2.ANALYTICS.DEMAND_FORECAST_TRAINING_BASE\")\ndf_table_pandas = df_table.to_pandas()\ndf_table_pandas = df_table_pandas[[\"PRIMARY_CITY\",\"AVG_QUANTITY_7D_CITY_MENU_ITEM\", \n                            \"AVG_QUANTITY_14D_CITY_MENU_ITEM\", \n                            \"AVG_QUANTITY_28D_CITY_MENU_ITEM\", \n                            \"AVG_SALES_7D_CITY_MENU_TYPE\",\n                            \"AVG_SALES_14D_CITY_MENU_TYPE\",\n                            \"AVG_SALES_28D_CITY_MENU_TYPE\",\n                            \"AVG_SALES_7D_LOCATION\",\n                            \"AVG_SALES_14D_LOCATION\",\n                            \"AVG_SALES_28D_LOCATION\",\n                            \"AVG_QUANTITY_7D_MENU_ITEM\",\n                            \"AVG_QUANTITY_14D_MENU_ITEM\",\n                            \"AVG_QUANTITY_28D_MENU_ITEM\"]].groupby(['PRIMARY_CITY']).mean()\nprint(df_table_pandas)\nend = perf_counter()\n\ndata_size = len(df_table_pandas)\nprint(f\"Took {end - start} seconds to read a table with {data_size} rows into normal pandas using to_pandas()\")",
   "execution_count": null
  },
  {
   "cell_type": "code",
   "id": "8a6c4a98-5f05-4480-babd-cdb9bb392106",
   "metadata": {
    "language": "python",
    "name": "cell22",
    "collapsed": false
   },
   "outputs": [],
   "source": "cur = session.connection.cursor()\nstart = perf_counter()\n\nsql = \"select * from FROSTBYTE_TASTY_BYTES_V2.ANALYTICS.DEMAND_FORECAST_TRAINING_BASE\"\ncur.execute(sql)\n\n# Fetch the result set from the cursor and deliver it as the pandas DataFrame.\nnative_pd_df = cur.fetch_pandas_all()\n\nnative_pd_df = native_pd_df[[\"PRIMARY_CITY\",\"AVG_QUANTITY_7D_CITY_MENU_ITEM\", \n                            \"AVG_QUANTITY_14D_CITY_MENU_ITEM\", \n                            \"AVG_QUANTITY_28D_CITY_MENU_ITEM\", \n                            \"AVG_SALES_7D_CITY_MENU_TYPE\",\n                            \"AVG_SALES_14D_CITY_MENU_TYPE\",\n                            \"AVG_SALES_28D_CITY_MENU_TYPE\",\n                            \"AVG_SALES_7D_LOCATION\",\n                            \"AVG_SALES_14D_LOCATION\",\n                            \"AVG_SALES_28D_LOCATION\",\n                            \"AVG_QUANTITY_7D_MENU_ITEM\",\n                            \"AVG_QUANTITY_14D_MENU_ITEM\",\n                            \"AVG_QUANTITY_28D_MENU_ITEM\"]].groupby(['PRIMARY_CITY']).mean()\nprint(native_pd_df)\nend = perf_counter()\n\ndata_size = len(native_pd_df)\nprint(f\"Took {end - start} seconds to read a table with {data_size} rows into normal pandas using to_pandas()\")",
   "execution_count": null
  },
  {
   "cell_type": "code",
   "id": "8aeb2de9-b94d-4650-9cac-3512eb9dd833",
   "metadata": {
    "language": "python",
    "name": "cell16"
   },
   "outputs": [],
   "source": "#Aggregation of value\nstart = perf_counter()\n\nspd_df = spd.read_snowflake(\"FROSTBYTE_TASTY_BYTES_V2.ANALYTICS.DEMAND_FORECAST_TRAINING_BASE\")\n\nspd_df = spd_df.pivot_table(index=[\"PRIMARY_CITY\"], columns=\"MENU_TYPE\", values = \"AVG_QUANTITY_14D_CITY_MENU_ITEM\")\nprint(spd_df)\nend = perf_counter()\n\nprint(f\"Took {end - start} seconds to finish doing a pivot table with Snowpark Pandas\")",
   "execution_count": null
  },
  {
   "cell_type": "code",
   "id": "9c46bd70-966d-4661-8202-9408c1250f33",
   "metadata": {
    "language": "python",
    "name": "cell23"
   },
   "outputs": [],
   "source": "start = perf_counter()\n\ndf_table = session.table(\"FROSTBYTE_TASTY_BYTES_V2.ANALYTICS.DEMAND_FORECAST_TRAINING_BASE\")\ndf_table_pandas = df_table.to_pandas()\ndf_table_pandas = df_table_pandas.pivot_table(index=[\"PRIMARY_CITY\"], columns=\"MENU_TYPE\", values = \"AVG_QUANTITY_14D_CITY_MENU_ITEM\")\nprint(df_table_pandas)\nend = perf_counter()\n\ndata_size = len(df_table_pandas)\nprint(f\"Took {end - start} seconds to finish doing a pivot table with to_pandas)\")",
   "execution_count": null
  },
  {
   "cell_type": "code",
   "id": "34635d18-ba1f-4bc6-8149-c1c535c34972",
   "metadata": {
    "language": "python",
    "name": "cell24"
   },
   "outputs": [],
   "source": "cur = session.connection.cursor()\nstart = perf_counter()\n\nsql = \"select * from FROSTBYTE_TASTY_BYTES_V2.ANALYTICS.DEMAND_FORECAST_TRAINING_BASE\"\ncur.execute(sql)\n\n# Fetch the result set from the cursor and deliver it as the pandas DataFrame.\nnative_pd_df = cur.fetch_pandas_all()\n\nnative_pd_df = native_pd_df.pivot_table(index=[\"PRIMARY_CITY\"], columns=\"MENU_TYPE\", values = \"AVG_QUANTITY_14D_CITY_MENU_ITEM\")\n\nprint(native_pd_df)\nend = perf_counter()\n\ndata_size = len(native_pd_df)\nprint(f\"Took {end - start} seconds to read a table with {data_size} rows into normal pandas using fetch_pandas_all()\")",
   "execution_count": null
  }
 ]
}